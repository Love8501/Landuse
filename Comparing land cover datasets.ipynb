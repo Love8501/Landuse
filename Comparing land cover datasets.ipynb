{
 "cells": [
  {
   "cell_type": "markdown",
   "metadata": {},
   "source": [
    "<a href=\"https://githubtocolab.com/giswqs/geemap/blob/master/examples/notebooks/115_land_cover.ipynb\" target=\"_parent\"><img src=\"https://colab.research.google.com/assets/colab-badge.svg\" alt=\"Open in Colab\"/></a>\n",
    "\n",
    "**Comparing Dynamic World with ESA and ESRI global land cover data**"
   ]
  },
  {
   "cell_type": "code",
   "execution_count": 1,
   "metadata": {
    "scrolled": true
   },
   "outputs": [
    {
     "name": "stdout",
     "output_type": "stream",
     "text": [
      "Requirement already satisfied: geemap in c:\\users\\gebruiker\\miniconda3\\envs\\gee\\lib\\site-packages (0.13.11)\n",
      "Requirement already satisfied: earthengine-api>=0.1.304 in c:\\users\\gebruiker\\miniconda3\\envs\\gee\\lib\\site-packages (from geemap) (0.1.315)\n",
      "Requirement already satisfied: colour in c:\\users\\gebruiker\\miniconda3\\envs\\gee\\lib\\site-packages (from geemap) (0.1.5)\n",
      "Requirement already satisfied: matplotlib in c:\\users\\gebruiker\\miniconda3\\envs\\gee\\lib\\site-packages (from geemap) (3.5.2)\n",
      "Requirement already satisfied: bqplot in c:\\users\\gebruiker\\miniconda3\\envs\\gee\\lib\\site-packages (from geemap) (0.12.33)\n",
      "Requirement already satisfied: geeadd>=0.5.1 in c:\\users\\gebruiker\\miniconda3\\envs\\gee\\lib\\site-packages (from geemap) (0.5.4)\n",
      "Requirement already satisfied: ffmpeg-python in c:\\users\\gebruiker\\miniconda3\\envs\\gee\\lib\\site-packages (from geemap) (0.2.0)\n",
      "Requirement already satisfied: geocoder in c:\\users\\gebruiker\\miniconda3\\envs\\gee\\lib\\site-packages (from geemap) (1.38.1)\n",
      "Requirement already satisfied: pandas in c:\\users\\gebruiker\\miniconda3\\envs\\gee\\lib\\site-packages (from geemap) (1.4.2)\n",
      "Requirement already satisfied: gdown in c:\\users\\gebruiker\\miniconda3\\envs\\gee\\lib\\site-packages (from geemap) (4.4.0)\n",
      "Requirement already satisfied: whiteboxgui>=0.6.0 in c:\\users\\gebruiker\\miniconda3\\envs\\gee\\lib\\site-packages (from geemap) (0.7.0)\n",
      "Requirement already satisfied: mapclassify>=2.4.0 in c:\\users\\gebruiker\\miniconda3\\envs\\gee\\lib\\site-packages (from geemap) (2.4.3)\n",
      "Requirement already satisfied: pyshp>=2.1.3 in c:\\users\\gebruiker\\miniconda3\\envs\\gee\\lib\\site-packages (from geemap) (2.3.0)\n",
      "Requirement already satisfied: ee-extra>=0.0.10 in c:\\users\\gebruiker\\miniconda3\\envs\\gee\\lib\\site-packages (from geemap) (0.0.13)\n",
      "Requirement already satisfied: xyzservices in c:\\users\\gebruiker\\miniconda3\\envs\\gee\\lib\\site-packages (from geemap) (2022.4.0)\n",
      "Requirement already satisfied: pycrs in c:\\users\\gebruiker\\miniconda3\\envs\\gee\\lib\\site-packages (from geemap) (1.0.2)\n",
      "Requirement already satisfied: python-box in c:\\users\\gebruiker\\miniconda3\\envs\\gee\\lib\\site-packages (from geemap) (6.0.2)\n",
      "Requirement already satisfied: sankee in c:\\users\\gebruiker\\miniconda3\\envs\\gee\\lib\\site-packages (from geemap) (0.0.7)\n",
      "Requirement already satisfied: geojson in c:\\users\\gebruiker\\miniconda3\\envs\\gee\\lib\\site-packages (from geemap) (2.5.0)\n",
      "Requirement already satisfied: jupyterlab>=3 in c:\\users\\gebruiker\\miniconda3\\envs\\gee\\lib\\site-packages (from geemap) (3.4.3)\n",
      "Requirement already satisfied: ipytree in c:\\users\\gebruiker\\miniconda3\\envs\\gee\\lib\\site-packages (from geemap) (0.2.1)\n",
      "Requirement already satisfied: pillow in c:\\users\\gebruiker\\miniconda3\\envs\\gee\\lib\\site-packages (from geemap) (9.1.1)\n",
      "Requirement already satisfied: folium>=0.11.0 in c:\\users\\gebruiker\\miniconda3\\envs\\gee\\lib\\site-packages (from geemap) (0.12.1.post1)\n",
      "Requirement already satisfied: ipyleaflet>=0.14.0 in c:\\users\\gebruiker\\miniconda3\\envs\\gee\\lib\\site-packages (from geemap) (0.16.0)\n",
      "Requirement already satisfied: ipyfilechooser>=0.6.0 in c:\\users\\gebruiker\\miniconda3\\envs\\gee\\lib\\site-packages (from geemap) (0.6.0)\n",
      "Requirement already satisfied: ipyevents in c:\\users\\gebruiker\\miniconda3\\envs\\gee\\lib\\site-packages (from geemap) (2.0.1)\n",
      "Requirement already satisfied: numpy in c:\\users\\gebruiker\\miniconda3\\envs\\gee\\lib\\site-packages (from geemap) (1.22.4)\n",
      "Requirement already satisfied: future in c:\\users\\gebruiker\\miniconda3\\envs\\gee\\lib\\site-packages (from earthengine-api>=0.1.304->geemap) (0.18.2)\n",
      "Requirement already satisfied: httplib2shim in c:\\users\\gebruiker\\miniconda3\\envs\\gee\\lib\\site-packages (from earthengine-api>=0.1.304->geemap) (0.0.3)\n",
      "Requirement already satisfied: six in c:\\users\\gebruiker\\miniconda3\\envs\\gee\\lib\\site-packages (from earthengine-api>=0.1.304->geemap) (1.16.0)\n",
      "Requirement already satisfied: google-api-python-client<2,>=1.12.1 in c:\\users\\gebruiker\\miniconda3\\envs\\gee\\lib\\site-packages (from earthengine-api>=0.1.304->geemap) (1.12.8)\n",
      "Requirement already satisfied: google-auth-httplib2>=0.0.3 in c:\\users\\gebruiker\\miniconda3\\envs\\gee\\lib\\site-packages (from earthengine-api>=0.1.304->geemap) (0.1.0)\n",
      "Requirement already satisfied: httplib2<1dev,>=0.9.2 in c:\\users\\gebruiker\\miniconda3\\envs\\gee\\lib\\site-packages (from earthengine-api>=0.1.304->geemap) (0.20.4)\n",
      "Requirement already satisfied: google-cloud-storage in c:\\users\\gebruiker\\miniconda3\\envs\\gee\\lib\\site-packages (from earthengine-api>=0.1.304->geemap) (2.4.0)\n",
      "Requirement already satisfied: google-auth>=1.4.1 in c:\\users\\gebruiker\\miniconda3\\envs\\gee\\lib\\site-packages (from earthengine-api>=0.1.304->geemap) (1.35.0)\n",
      "Requirement already satisfied: requests in c:\\users\\gebruiker\\miniconda3\\envs\\gee\\lib\\site-packages (from folium>=0.11.0->geemap) (2.28.0)\n",
      "Requirement already satisfied: branca>=0.3.0 in c:\\users\\gebruiker\\miniconda3\\envs\\gee\\lib\\site-packages (from folium>=0.11.0->geemap) (0.5.0)\n",
      "Requirement already satisfied: jinja2>=2.9 in c:\\users\\gebruiker\\miniconda3\\envs\\gee\\lib\\site-packages (from folium>=0.11.0->geemap) (3.1.2)\n",
      "Requirement already satisfied: logzero>=1.5.0 in c:\\users\\gebruiker\\miniconda3\\envs\\gee\\lib\\site-packages (from geeadd>=0.5.1->geemap) (1.7.0)\n",
      "Requirement already satisfied: beautifulsoup4>=4.9.0 in c:\\users\\gebruiker\\miniconda3\\envs\\gee\\lib\\site-packages (from geeadd>=0.5.1->geemap) (4.11.1)\n",
      "Requirement already satisfied: soupsieve>1.2 in c:\\users\\gebruiker\\miniconda3\\envs\\gee\\lib\\site-packages (from beautifulsoup4>=4.9.0->geeadd>=0.5.1->geemap) (2.3.1)\n",
      "Requirement already satisfied: google-api-core<2dev,>=1.21.0 in c:\\users\\gebruiker\\miniconda3\\envs\\gee\\lib\\site-packages (from google-api-python-client<2,>=1.12.1->earthengine-api>=0.1.304->geemap) (1.31.5)\n",
      "Requirement already satisfied: uritemplate<4dev,>=3.0.0 in c:\\users\\gebruiker\\miniconda3\\envs\\gee\\lib\\site-packages (from google-api-python-client<2,>=1.12.1->earthengine-api>=0.1.304->geemap) (3.0.1)\n",
      "Requirement already satisfied: setuptools>=40.3.0 in c:\\users\\gebruiker\\miniconda3\\envs\\gee\\lib\\site-packages (from google-api-core<2dev,>=1.21.0->google-api-python-client<2,>=1.12.1->earthengine-api>=0.1.304->geemap) (61.2.0)\n",
      "Requirement already satisfied: protobuf>=3.12.0 in c:\\users\\gebruiker\\miniconda3\\envs\\gee\\lib\\site-packages (from google-api-core<2dev,>=1.21.0->google-api-python-client<2,>=1.12.1->earthengine-api>=0.1.304->geemap) (3.20.1)\n",
      "Requirement already satisfied: googleapis-common-protos<2.0dev,>=1.6.0 in c:\\users\\gebruiker\\miniconda3\\envs\\gee\\lib\\site-packages (from google-api-core<2dev,>=1.21.0->google-api-python-client<2,>=1.12.1->earthengine-api>=0.1.304->geemap) (1.56.2)\n",
      "Requirement already satisfied: pytz in c:\\users\\gebruiker\\miniconda3\\envs\\gee\\lib\\site-packages (from google-api-core<2dev,>=1.21.0->google-api-python-client<2,>=1.12.1->earthengine-api>=0.1.304->geemap) (2022.1)\n",
      "Requirement already satisfied: packaging>=14.3 in c:\\users\\gebruiker\\miniconda3\\envs\\gee\\lib\\site-packages (from google-api-core<2dev,>=1.21.0->google-api-python-client<2,>=1.12.1->earthengine-api>=0.1.304->geemap) (21.3)\n",
      "Requirement already satisfied: rsa<5,>=3.1.4 in c:\\users\\gebruiker\\miniconda3\\envs\\gee\\lib\\site-packages (from google-auth>=1.4.1->earthengine-api>=0.1.304->geemap) (4.8)\n",
      "Requirement already satisfied: cachetools<5.0,>=2.0.0 in c:\\users\\gebruiker\\miniconda3\\envs\\gee\\lib\\site-packages (from google-auth>=1.4.1->earthengine-api>=0.1.304->geemap) (4.2.4)\n",
      "Requirement already satisfied: pyasn1-modules>=0.2.1 in c:\\users\\gebruiker\\miniconda3\\envs\\gee\\lib\\site-packages (from google-auth>=1.4.1->earthengine-api>=0.1.304->geemap) (0.2.7)\n",
      "Requirement already satisfied: pyparsing!=3.0.0,!=3.0.1,!=3.0.2,!=3.0.3,<4,>=2.4.2 in c:\\users\\gebruiker\\miniconda3\\envs\\gee\\lib\\site-packages (from httplib2<1dev,>=0.9.2->earthengine-api>=0.1.304->geemap) (3.0.9)\n",
      "Requirement already satisfied: ipywidgets in c:\\users\\gebruiker\\miniconda3\\envs\\gee\\lib\\site-packages (from ipyfilechooser>=0.6.0->geemap) (7.7.0)\n",
      "Requirement already satisfied: traittypes<3,>=0.2.1 in c:\\users\\gebruiker\\miniconda3\\envs\\gee\\lib\\site-packages (from ipyleaflet>=0.14.0->geemap) (0.2.1)\n",
      "Requirement already satisfied: traitlets>=4.3.1 in c:\\users\\gebruiker\\miniconda3\\envs\\gee\\lib\\site-packages (from ipywidgets->ipyfilechooser>=0.6.0->geemap) (5.3.0)\n",
      "Requirement already satisfied: jupyterlab-widgets>=1.0.0 in c:\\users\\gebruiker\\miniconda3\\envs\\gee\\lib\\site-packages (from ipywidgets->ipyfilechooser>=0.6.0->geemap) (1.1.0)\n",
      "Requirement already satisfied: ipython>=4.0.0 in c:\\users\\gebruiker\\miniconda3\\envs\\gee\\lib\\site-packages (from ipywidgets->ipyfilechooser>=0.6.0->geemap) (8.4.0)\n",
      "Requirement already satisfied: ipython-genutils~=0.2.0 in c:\\users\\gebruiker\\miniconda3\\envs\\gee\\lib\\site-packages (from ipywidgets->ipyfilechooser>=0.6.0->geemap) (0.2.0)\n",
      "Requirement already satisfied: nbformat>=4.2.0 in c:\\users\\gebruiker\\miniconda3\\envs\\gee\\lib\\site-packages (from ipywidgets->ipyfilechooser>=0.6.0->geemap) (5.4.0)\n",
      "Requirement already satisfied: ipykernel>=4.5.1 in c:\\users\\gebruiker\\miniconda3\\envs\\gee\\lib\\site-packages (from ipywidgets->ipyfilechooser>=0.6.0->geemap) (6.15.0)\n",
      "Requirement already satisfied: widgetsnbextension~=3.6.0 in c:\\users\\gebruiker\\miniconda3\\envs\\gee\\lib\\site-packages (from ipywidgets->ipyfilechooser>=0.6.0->geemap) (3.6.0)\n",
      "Requirement already satisfied: tornado>=6.1 in c:\\users\\gebruiker\\miniconda3\\envs\\gee\\lib\\site-packages (from ipykernel>=4.5.1->ipywidgets->ipyfilechooser>=0.6.0->geemap) (6.1)\n",
      "Requirement already satisfied: jupyter-client>=6.1.12 in c:\\users\\gebruiker\\miniconda3\\envs\\gee\\lib\\site-packages (from ipykernel>=4.5.1->ipywidgets->ipyfilechooser>=0.6.0->geemap) (7.3.4)\n",
      "Requirement already satisfied: debugpy>=1.0 in c:\\users\\gebruiker\\miniconda3\\envs\\gee\\lib\\site-packages (from ipykernel>=4.5.1->ipywidgets->ipyfilechooser>=0.6.0->geemap) (1.6.0)\n",
      "Requirement already satisfied: matplotlib-inline>=0.1 in c:\\users\\gebruiker\\miniconda3\\envs\\gee\\lib\\site-packages (from ipykernel>=4.5.1->ipywidgets->ipyfilechooser>=0.6.0->geemap) (0.1.3)\n",
      "Requirement already satisfied: pyzmq>=17 in c:\\users\\gebruiker\\miniconda3\\envs\\gee\\lib\\site-packages (from ipykernel>=4.5.1->ipywidgets->ipyfilechooser>=0.6.0->geemap) (23.1.0)\n",
      "Requirement already satisfied: nest-asyncio in c:\\users\\gebruiker\\miniconda3\\envs\\gee\\lib\\site-packages (from ipykernel>=4.5.1->ipywidgets->ipyfilechooser>=0.6.0->geemap) (1.5.5)\n",
      "Requirement already satisfied: psutil in c:\\users\\gebruiker\\miniconda3\\envs\\gee\\lib\\site-packages (from ipykernel>=4.5.1->ipywidgets->ipyfilechooser>=0.6.0->geemap) (5.9.1)\n",
      "Requirement already satisfied: prompt-toolkit!=3.0.0,!=3.0.1,<3.1.0,>=2.0.0 in c:\\users\\gebruiker\\miniconda3\\envs\\gee\\lib\\site-packages (from ipython>=4.0.0->ipywidgets->ipyfilechooser>=0.6.0->geemap) (3.0.29)\n",
      "Requirement already satisfied: backcall in c:\\users\\gebruiker\\miniconda3\\envs\\gee\\lib\\site-packages (from ipython>=4.0.0->ipywidgets->ipyfilechooser>=0.6.0->geemap) (0.2.0)\n",
      "Requirement already satisfied: pickleshare in c:\\users\\gebruiker\\miniconda3\\envs\\gee\\lib\\site-packages (from ipython>=4.0.0->ipywidgets->ipyfilechooser>=0.6.0->geemap) (0.7.5)\n",
      "Requirement already satisfied: stack-data in c:\\users\\gebruiker\\miniconda3\\envs\\gee\\lib\\site-packages (from ipython>=4.0.0->ipywidgets->ipyfilechooser>=0.6.0->geemap) (0.3.0)\n",
      "Requirement already satisfied: jedi>=0.16 in c:\\users\\gebruiker\\miniconda3\\envs\\gee\\lib\\site-packages (from ipython>=4.0.0->ipywidgets->ipyfilechooser>=0.6.0->geemap) (0.18.1)\n",
      "Requirement already satisfied: pygments>=2.4.0 in c:\\users\\gebruiker\\miniconda3\\envs\\gee\\lib\\site-packages (from ipython>=4.0.0->ipywidgets->ipyfilechooser>=0.6.0->geemap) (2.12.0)\n",
      "Requirement already satisfied: colorama in c:\\users\\gebruiker\\miniconda3\\envs\\gee\\lib\\site-packages (from ipython>=4.0.0->ipywidgets->ipyfilechooser>=0.6.0->geemap) (0.4.5)\n",
      "Requirement already satisfied: decorator in c:\\users\\gebruiker\\miniconda3\\envs\\gee\\lib\\site-packages (from ipython>=4.0.0->ipywidgets->ipyfilechooser>=0.6.0->geemap) (5.1.1)\n",
      "Requirement already satisfied: parso<0.9.0,>=0.8.0 in c:\\users\\gebruiker\\miniconda3\\envs\\gee\\lib\\site-packages (from jedi>=0.16->ipython>=4.0.0->ipywidgets->ipyfilechooser>=0.6.0->geemap) (0.8.3)\n",
      "Requirement already satisfied: MarkupSafe>=2.0 in c:\\users\\gebruiker\\miniconda3\\envs\\gee\\lib\\site-packages (from jinja2>=2.9->folium>=0.11.0->geemap) (2.1.1)\n",
      "Requirement already satisfied: python-dateutil>=2.8.2 in c:\\users\\gebruiker\\miniconda3\\envs\\gee\\lib\\site-packages (from jupyter-client>=6.1.12->ipykernel>=4.5.1->ipywidgets->ipyfilechooser>=0.6.0->geemap) (2.8.2)\n",
      "Requirement already satisfied: entrypoints in c:\\users\\gebruiker\\miniconda3\\envs\\gee\\lib\\site-packages (from jupyter-client>=6.1.12->ipykernel>=4.5.1->ipywidgets->ipyfilechooser>=0.6.0->geemap) (0.4)\n",
      "Requirement already satisfied: jupyter-core>=4.9.2 in c:\\users\\gebruiker\\miniconda3\\envs\\gee\\lib\\site-packages (from jupyter-client>=6.1.12->ipykernel>=4.5.1->ipywidgets->ipyfilechooser>=0.6.0->geemap) (4.10.0)\n",
      "Requirement already satisfied: pywin32>=1.0 in c:\\users\\gebruiker\\miniconda3\\envs\\gee\\lib\\site-packages (from jupyter-core>=4.9.2->jupyter-client>=6.1.12->ipykernel>=4.5.1->ipywidgets->ipyfilechooser>=0.6.0->geemap) (303)\n",
      "Requirement already satisfied: jupyterlab-server~=2.10 in c:\\users\\gebruiker\\miniconda3\\envs\\gee\\lib\\site-packages (from jupyterlab>=3->geemap) (2.14.0)\n",
      "Requirement already satisfied: jupyter-server~=1.16 in c:\\users\\gebruiker\\miniconda3\\envs\\gee\\lib\\site-packages (from jupyterlab>=3->geemap) (1.17.1)\n",
      "Requirement already satisfied: nbclassic~=0.2 in c:\\users\\gebruiker\\miniconda3\\envs\\gee\\lib\\site-packages (from jupyterlab>=3->geemap) (0.3.7)\n",
      "Requirement already satisfied: argon2-cffi in c:\\users\\gebruiker\\miniconda3\\envs\\gee\\lib\\site-packages (from jupyter-server~=1.16->jupyterlab>=3->geemap) (21.3.0)\n",
      "Requirement already satisfied: nbconvert>=6.4.4 in c:\\users\\gebruiker\\miniconda3\\envs\\gee\\lib\\site-packages (from jupyter-server~=1.16->jupyterlab>=3->geemap) (6.5.0)\n",
      "Requirement already satisfied: Send2Trash in c:\\users\\gebruiker\\miniconda3\\envs\\gee\\lib\\site-packages (from jupyter-server~=1.16->jupyterlab>=3->geemap) (1.8.0)\n",
      "Requirement already satisfied: prometheus-client in c:\\users\\gebruiker\\miniconda3\\envs\\gee\\lib\\site-packages (from jupyter-server~=1.16->jupyterlab>=3->geemap) (0.14.1)\n",
      "Requirement already satisfied: websocket-client in c:\\users\\gebruiker\\miniconda3\\envs\\gee\\lib\\site-packages (from jupyter-server~=1.16->jupyterlab>=3->geemap) (1.3.2)\n",
      "Requirement already satisfied: terminado>=0.8.3 in c:\\users\\gebruiker\\miniconda3\\envs\\gee\\lib\\site-packages (from jupyter-server~=1.16->jupyterlab>=3->geemap) (0.15.0)\n",
      "Requirement already satisfied: pywinpty in c:\\users\\gebruiker\\miniconda3\\envs\\gee\\lib\\site-packages (from jupyter-server~=1.16->jupyterlab>=3->geemap) (2.0.2)\n",
      "Requirement already satisfied: anyio<4,>=3.1.0 in c:\\users\\gebruiker\\miniconda3\\envs\\gee\\lib\\site-packages (from jupyter-server~=1.16->jupyterlab>=3->geemap) (3.6.1)\n",
      "Requirement already satisfied: idna>=2.8 in c:\\users\\gebruiker\\miniconda3\\envs\\gee\\lib\\site-packages (from anyio<4,>=3.1.0->jupyter-server~=1.16->jupyterlab>=3->geemap) (3.3)\n",
      "Requirement already satisfied: sniffio>=1.1 in c:\\users\\gebruiker\\miniconda3\\envs\\gee\\lib\\site-packages (from anyio<4,>=3.1.0->jupyter-server~=1.16->jupyterlab>=3->geemap) (1.2.0)\n",
      "Requirement already satisfied: json5 in c:\\users\\gebruiker\\miniconda3\\envs\\gee\\lib\\site-packages (from jupyterlab-server~=2.10->jupyterlab>=3->geemap) (0.9.5)\n",
      "Requirement already satisfied: babel in c:\\users\\gebruiker\\miniconda3\\envs\\gee\\lib\\site-packages (from jupyterlab-server~=2.10->jupyterlab>=3->geemap) (2.10.3)\n",
      "Requirement already satisfied: importlib-metadata>=3.6 in c:\\users\\gebruiker\\miniconda3\\envs\\gee\\lib\\site-packages (from jupyterlab-server~=2.10->jupyterlab>=3->geemap) (4.11.4)\n",
      "Requirement already satisfied: jsonschema>=3.0.1 in c:\\users\\gebruiker\\miniconda3\\envs\\gee\\lib\\site-packages (from jupyterlab-server~=2.10->jupyterlab>=3->geemap) (4.6.0)\n",
      "Requirement already satisfied: zipp>=0.5 in c:\\users\\gebruiker\\miniconda3\\envs\\gee\\lib\\site-packages (from importlib-metadata>=3.6->jupyterlab-server~=2.10->jupyterlab>=3->geemap) (3.8.0)\n",
      "Requirement already satisfied: pyrsistent!=0.17.0,!=0.17.1,!=0.17.2,>=0.14.0 in c:\\users\\gebruiker\\miniconda3\\envs\\gee\\lib\\site-packages (from jsonschema>=3.0.1->jupyterlab-server~=2.10->jupyterlab>=3->geemap) (0.18.1)\n",
      "Requirement already satisfied: attrs>=17.4.0 in c:\\users\\gebruiker\\miniconda3\\envs\\gee\\lib\\site-packages (from jsonschema>=3.0.1->jupyterlab-server~=2.10->jupyterlab>=3->geemap) (21.4.0)\n",
      "Requirement already satisfied: scipy>=1.0 in c:\\users\\gebruiker\\miniconda3\\envs\\gee\\lib\\site-packages (from mapclassify>=2.4.0->geemap) (1.8.1)\n",
      "Requirement already satisfied: networkx in c:\\users\\gebruiker\\miniconda3\\envs\\gee\\lib\\site-packages (from mapclassify>=2.4.0->geemap) (2.8.4)\n",
      "Requirement already satisfied: scikit-learn in c:\\users\\gebruiker\\miniconda3\\envs\\gee\\lib\\site-packages (from mapclassify>=2.4.0->geemap) (1.1.1)\n",
      "Requirement already satisfied: notebook<7 in c:\\users\\gebruiker\\miniconda3\\envs\\gee\\lib\\site-packages (from nbclassic~=0.2->jupyterlab>=3->geemap) (6.4.12)\n",
      "Requirement already satisfied: notebook-shim>=0.1.0 in c:\\users\\gebruiker\\miniconda3\\envs\\gee\\lib\\site-packages (from nbclassic~=0.2->jupyterlab>=3->geemap) (0.1.0)\n",
      "Requirement already satisfied: tinycss2 in c:\\users\\gebruiker\\miniconda3\\envs\\gee\\lib\\site-packages (from nbconvert>=6.4.4->jupyter-server~=1.16->jupyterlab>=3->geemap) (1.1.1)\n",
      "Requirement already satisfied: bleach in c:\\users\\gebruiker\\miniconda3\\envs\\gee\\lib\\site-packages (from nbconvert>=6.4.4->jupyter-server~=1.16->jupyterlab>=3->geemap) (5.0.0)\n",
      "Requirement already satisfied: jupyterlab-pygments in c:\\users\\gebruiker\\miniconda3\\envs\\gee\\lib\\site-packages (from nbconvert>=6.4.4->jupyter-server~=1.16->jupyterlab>=3->geemap) (0.2.2)\n",
      "Requirement already satisfied: nbclient>=0.5.0 in c:\\users\\gebruiker\\miniconda3\\envs\\gee\\lib\\site-packages (from nbconvert>=6.4.4->jupyter-server~=1.16->jupyterlab>=3->geemap) (0.6.4)\n",
      "Requirement already satisfied: pandocfilters>=1.4.1 in c:\\users\\gebruiker\\miniconda3\\envs\\gee\\lib\\site-packages (from nbconvert>=6.4.4->jupyter-server~=1.16->jupyterlab>=3->geemap) (1.5.0)\n",
      "Requirement already satisfied: mistune<2,>=0.8.1 in c:\\users\\gebruiker\\miniconda3\\envs\\gee\\lib\\site-packages (from nbconvert>=6.4.4->jupyter-server~=1.16->jupyterlab>=3->geemap) (0.8.4)\n",
      "Requirement already satisfied: defusedxml in c:\\users\\gebruiker\\miniconda3\\envs\\gee\\lib\\site-packages (from nbconvert>=6.4.4->jupyter-server~=1.16->jupyterlab>=3->geemap) (0.7.1)\n",
      "Requirement already satisfied: fastjsonschema in c:\\users\\gebruiker\\miniconda3\\envs\\gee\\lib\\site-packages (from nbformat>=4.2.0->ipywidgets->ipyfilechooser>=0.6.0->geemap) (2.15.3)\n",
      "Requirement already satisfied: wcwidth in c:\\users\\gebruiker\\miniconda3\\envs\\gee\\lib\\site-packages (from prompt-toolkit!=3.0.0,!=3.0.1,<3.1.0,>=2.0.0->ipython>=4.0.0->ipywidgets->ipyfilechooser>=0.6.0->geemap) (0.2.5)\n",
      "Requirement already satisfied: pyasn1<0.5.0,>=0.4.6 in c:\\users\\gebruiker\\miniconda3\\envs\\gee\\lib\\site-packages (from pyasn1-modules>=0.2.1->google-auth>=1.4.1->earthengine-api>=0.1.304->geemap) (0.4.8)\n",
      "Requirement already satisfied: charset-normalizer~=2.0.0 in c:\\users\\gebruiker\\miniconda3\\envs\\gee\\lib\\site-packages (from requests->folium>=0.11.0->geemap) (2.0.12)\n",
      "Requirement already satisfied: urllib3<1.27,>=1.21.1 in c:\\users\\gebruiker\\miniconda3\\envs\\gee\\lib\\site-packages (from requests->folium>=0.11.0->geemap) (1.26.9)\n",
      "Requirement already satisfied: certifi>=2017.4.17 in c:\\users\\gebruiker\\miniconda3\\envs\\gee\\lib\\site-packages (from requests->folium>=0.11.0->geemap) (2022.6.15)\n",
      "Requirement already satisfied: whitebox in c:\\users\\gebruiker\\miniconda3\\envs\\gee\\lib\\site-packages (from whiteboxgui>=0.6.0->geemap) (2.1.2)\n",
      "Requirement already satisfied: argon2-cffi-bindings in c:\\users\\gebruiker\\miniconda3\\envs\\gee\\lib\\site-packages (from argon2-cffi->jupyter-server~=1.16->jupyterlab>=3->geemap) (21.2.0)\n",
      "Requirement already satisfied: cffi>=1.0.1 in c:\\users\\gebruiker\\miniconda3\\envs\\gee\\lib\\site-packages (from argon2-cffi-bindings->argon2-cffi->jupyter-server~=1.16->jupyterlab>=3->geemap) (1.15.0)\n",
      "Requirement already satisfied: pycparser in c:\\users\\gebruiker\\miniconda3\\envs\\gee\\lib\\site-packages (from cffi>=1.0.1->argon2-cffi-bindings->argon2-cffi->jupyter-server~=1.16->jupyterlab>=3->geemap) (2.21)\n",
      "Requirement already satisfied: webencodings in c:\\users\\gebruiker\\miniconda3\\envs\\gee\\lib\\site-packages (from bleach->nbconvert>=6.4.4->jupyter-server~=1.16->jupyterlab>=3->geemap) (0.5.1)\n",
      "Requirement already satisfied: filelock in c:\\users\\gebruiker\\miniconda3\\envs\\gee\\lib\\site-packages (from gdown->geemap) (3.7.1)\n",
      "Requirement already satisfied: tqdm in c:\\users\\gebruiker\\miniconda3\\envs\\gee\\lib\\site-packages (from gdown->geemap) (4.64.0)\n",
      "Requirement already satisfied: ratelim in c:\\users\\gebruiker\\miniconda3\\envs\\gee\\lib\\site-packages (from geocoder->geemap) (0.1.6)\n",
      "Requirement already satisfied: click in c:\\users\\gebruiker\\miniconda3\\envs\\gee\\lib\\site-packages (from geocoder->geemap) (8.1.3)\n",
      "Requirement already satisfied: google-cloud-core<3.0dev,>=2.3.0 in c:\\users\\gebruiker\\miniconda3\\envs\\gee\\lib\\site-packages (from google-cloud-storage->earthengine-api>=0.1.304->geemap) (2.3.1)\n",
      "Requirement already satisfied: google-resumable-media>=2.3.2 in c:\\users\\gebruiker\\miniconda3\\envs\\gee\\lib\\site-packages (from google-cloud-storage->earthengine-api>=0.1.304->geemap) (2.3.3)\n",
      "Requirement already satisfied: google-crc32c<2.0dev,>=1.0 in c:\\users\\gebruiker\\miniconda3\\envs\\gee\\lib\\site-packages (from google-resumable-media>=2.3.2->google-cloud-storage->earthengine-api>=0.1.304->geemap) (1.1.2)\n",
      "Requirement already satisfied: kiwisolver>=1.0.1 in c:\\users\\gebruiker\\miniconda3\\envs\\gee\\lib\\site-packages (from matplotlib->geemap) (1.4.3)\n",
      "Requirement already satisfied: fonttools>=4.22.0 in c:\\users\\gebruiker\\miniconda3\\envs\\gee\\lib\\site-packages (from matplotlib->geemap) (4.33.3)\n",
      "Requirement already satisfied: cycler>=0.10 in c:\\users\\gebruiker\\miniconda3\\envs\\gee\\lib\\site-packages (from matplotlib->geemap) (0.11.0)\n",
      "Requirement already satisfied: PySocks!=1.5.7,>=1.5.6 in c:\\users\\gebruiker\\miniconda3\\envs\\gee\\lib\\site-packages (from requests->folium>=0.11.0->geemap) (1.7.1)\n",
      "Requirement already satisfied: plotly>=5.2.2 in c:\\users\\gebruiker\\miniconda3\\envs\\gee\\lib\\site-packages (from sankee->geemap) (5.8.2)\n",
      "Requirement already satisfied: tenacity>=6.2.0 in c:\\users\\gebruiker\\miniconda3\\envs\\gee\\lib\\site-packages (from plotly>=5.2.2->sankee->geemap) (8.0.1)\n",
      "Requirement already satisfied: joblib>=1.0.0 in c:\\users\\gebruiker\\miniconda3\\envs\\gee\\lib\\site-packages (from scikit-learn->mapclassify>=2.4.0->geemap) (1.1.0)\n",
      "Requirement already satisfied: threadpoolctl>=2.0.0 in c:\\users\\gebruiker\\miniconda3\\envs\\gee\\lib\\site-packages (from scikit-learn->mapclassify>=2.4.0->geemap) (3.1.0)\n",
      "Requirement already satisfied: asttokens in c:\\users\\gebruiker\\miniconda3\\envs\\gee\\lib\\site-packages (from stack-data->ipython>=4.0.0->ipywidgets->ipyfilechooser>=0.6.0->geemap) (2.0.5)\n",
      "Requirement already satisfied: executing in c:\\users\\gebruiker\\miniconda3\\envs\\gee\\lib\\site-packages (from stack-data->ipython>=4.0.0->ipywidgets->ipyfilechooser>=0.6.0->geemap) (0.8.3)\n",
      "Requirement already satisfied: pure-eval in c:\\users\\gebruiker\\miniconda3\\envs\\gee\\lib\\site-packages (from stack-data->ipython>=4.0.0->ipywidgets->ipyfilechooser>=0.6.0->geemap) (0.2.2)\n"
     ]
    }
   ],
   "source": [
    "!pip install geemap"
   ]
  },
  {
   "cell_type": "code",
   "execution_count": 2,
   "metadata": {},
   "outputs": [
    {
     "ename": "ModuleNotFoundError",
     "evalue": "No module named '_curses'",
     "output_type": "error",
     "traceback": [
      "\u001b[1;31m---------------------------------------------------------------------------\u001b[0m",
      "\u001b[1;31mModuleNotFoundError\u001b[0m                       Traceback (most recent call last)",
      "Input \u001b[1;32mIn [2]\u001b[0m, in \u001b[0;36m<cell line: 1>\u001b[1;34m()\u001b[0m\n\u001b[1;32m----> 1\u001b[0m \u001b[38;5;28;01mimport\u001b[39;00m \u001b[38;5;21;01mee\u001b[39;00m\n\u001b[0;32m      2\u001b[0m \u001b[38;5;28;01mimport\u001b[39;00m \u001b[38;5;21;01mgeemap\u001b[39;00m\n\u001b[0;32m      3\u001b[0m ee\u001b[38;5;241m.\u001b[39mAuthenticate\n",
      "File \u001b[1;32m~\\miniconda3\\envs\\gee\\lib\\site-packages\\ee\\__init__.py:1\u001b[0m, in \u001b[0;36m<module>\u001b[1;34m\u001b[0m\n\u001b[1;32m----> 1\u001b[0m \u001b[38;5;28;01mfrom\u001b[39;00m \u001b[38;5;21;01m.\u001b[39;00m\u001b[38;5;21;01mmain\u001b[39;00m \u001b[38;5;28;01mimport\u001b[39;00m main\n",
      "File \u001b[1;32m~\\miniconda3\\envs\\gee\\lib\\site-packages\\ee\\main.py:5\u001b[0m, in \u001b[0;36m<module>\u001b[1;34m\u001b[0m\n\u001b[0;32m      3\u001b[0m \u001b[38;5;28;01mimport\u001b[39;00m \u001b[38;5;21;01msubprocess\u001b[39;00m\n\u001b[0;32m      4\u001b[0m \u001b[38;5;28;01mimport\u001b[39;00m \u001b[38;5;21;01msys\u001b[39;00m\n\u001b[1;32m----> 5\u001b[0m \u001b[38;5;28;01mimport\u001b[39;00m \u001b[38;5;21;01mblessings\u001b[39;00m\n\u001b[0;32m      6\u001b[0m \u001b[38;5;28;01mimport\u001b[39;00m \u001b[38;5;21;01mre\u001b[39;00m\n\u001b[0;32m      7\u001b[0m \u001b[38;5;28;01mimport\u001b[39;00m \u001b[38;5;21;01mos\u001b[39;00m\n",
      "File \u001b[1;32m~\\miniconda3\\envs\\gee\\lib\\site-packages\\blessings\\__init__.py:5\u001b[0m, in \u001b[0;36m<module>\u001b[1;34m\u001b[0m\n\u001b[0;32m      1\u001b[0m \u001b[38;5;124;03m\"\"\"A thin, practical wrapper around terminal coloring, styling, and\u001b[39;00m\n\u001b[0;32m      2\u001b[0m \u001b[38;5;124;03mpositioning\"\"\"\u001b[39;00m\n\u001b[0;32m      4\u001b[0m \u001b[38;5;28;01mfrom\u001b[39;00m \u001b[38;5;21;01mcontextlib\u001b[39;00m \u001b[38;5;28;01mimport\u001b[39;00m contextmanager\n\u001b[1;32m----> 5\u001b[0m \u001b[38;5;28;01mimport\u001b[39;00m \u001b[38;5;21;01mcurses\u001b[39;00m\n\u001b[0;32m      6\u001b[0m \u001b[38;5;28;01mfrom\u001b[39;00m \u001b[38;5;21;01mcurses\u001b[39;00m \u001b[38;5;28;01mimport\u001b[39;00m setupterm, tigetnum, tigetstr, tparm\n\u001b[0;32m      7\u001b[0m \u001b[38;5;28;01mfrom\u001b[39;00m \u001b[38;5;21;01mfcntl\u001b[39;00m \u001b[38;5;28;01mimport\u001b[39;00m ioctl\n",
      "File \u001b[1;32m~\\miniconda3\\envs\\gee\\lib\\curses\\__init__.py:13\u001b[0m, in \u001b[0;36m<module>\u001b[1;34m\u001b[0m\n\u001b[0;32m      1\u001b[0m \u001b[38;5;124;03m\"\"\"curses\u001b[39;00m\n\u001b[0;32m      2\u001b[0m \n\u001b[0;32m      3\u001b[0m \u001b[38;5;124;03mThe main package for curses support for Python.  Normally used by importing\u001b[39;00m\n\u001b[1;32m   (...)\u001b[0m\n\u001b[0;32m     10\u001b[0m \n\u001b[0;32m     11\u001b[0m \u001b[38;5;124;03m\"\"\"\u001b[39;00m\n\u001b[1;32m---> 13\u001b[0m \u001b[38;5;28;01mfrom\u001b[39;00m \u001b[38;5;21;01m_curses\u001b[39;00m \u001b[38;5;28;01mimport\u001b[39;00m \u001b[38;5;241m*\u001b[39m\n\u001b[0;32m     14\u001b[0m \u001b[38;5;28;01mimport\u001b[39;00m \u001b[38;5;21;01mos\u001b[39;00m \u001b[38;5;28;01mas\u001b[39;00m \u001b[38;5;21;01m_os\u001b[39;00m\n\u001b[0;32m     15\u001b[0m \u001b[38;5;28;01mimport\u001b[39;00m \u001b[38;5;21;01msys\u001b[39;00m \u001b[38;5;28;01mas\u001b[39;00m \u001b[38;5;21;01m_sys\u001b[39;00m\n",
      "\u001b[1;31mModuleNotFoundError\u001b[0m: No module named '_curses'"
     ]
    }
   ],
   "source": [
    "import ee\n",
    "import geemap\n",
    "ee.Authenticate\n",
    "ee.Initialize()"
   ]
  },
  {
   "cell_type": "markdown",
   "metadata": {},
   "source": [
    "Visualizing [ESA Global Land Cover](https://developers.google.com/earth-engine/datasets/catalog/ESA_WorldCover_v100). "
   ]
  },
  {
   "cell_type": "code",
   "execution_count": null,
   "metadata": {},
   "outputs": [],
   "source": [
    "Map = geemap.Map()\n",
    "\n",
    "esa = ee.ImageCollection(\"ESA/WorldCover/v100\").first()\n",
    "esa_vis = {'bands': ['Map']}\n",
    "\n",
    "Map.addLayer(esa, esa_vis, \"ESA Land Cover\")\n",
    "Map.add_legend(title=\"ESA Land Cover\", builtin_legend='ESA_WorldCover')\n",
    "\n",
    "Map"
   ]
  },
  {
   "cell_type": "markdown",
   "metadata": {},
   "source": [
    "Visualizing [ESRI Global Land Cover](https://samapriya.github.io/awesome-gee-community-datasets/projects/esrilc2020)."
   ]
  },
  {
   "cell_type": "code",
   "execution_count": null,
   "metadata": {},
   "outputs": [],
   "source": [
    "Map = geemap.Map()\n",
    "\n",
    "esri = ee.ImageCollection(\n",
    "    \"projects/sat-io/open-datasets/landcover/ESRI_Global-LULC_10m\"\n",
    ").mosaic()\n",
    "esri_vis = {\n",
    "    'min': 1,\n",
    "    'max': 10,\n",
    "    'palette': [\n",
    "        \"#1A5BAB\",\n",
    "        \"#358221\",\n",
    "        \"#A7D282\",\n",
    "        \"#87D19E\",\n",
    "        \"#FFDB5C\",\n",
    "        \"#EECFA8\",\n",
    "        \"#ED022A\",\n",
    "        \"#EDE9E4\",\n",
    "        \"#F2FAFF\",\n",
    "        \"#C8C8C8\",\n",
    "    ],\n",
    "}\n",
    "\n",
    "Map.addLayer(esri, esri_vis, \"ESRI Land Cover\")\n",
    "Map.add_legend(title=\"ESRI Land Cover\", builtin_legend='ESRI_LandCover')\n",
    "\n",
    "Map"
   ]
  },
  {
   "cell_type": "markdown",
   "metadata": {},
   "source": [
    "Visualizing [Dynamic World Land Cover](https://developers.google.com/earth-engine/datasets/catalog/GOOGLE_DYNAMICWORLD_V1?hl=en)."
   ]
  },
  {
   "cell_type": "code",
   "execution_count": null,
   "metadata": {
    "scrolled": true
   },
   "outputs": [],
   "source": [
    "Map = geemap.Map()\n",
    "\n",
    "region = ee.Geometry.BBox(-4, 1, 5, 13)\n",
    "\n",
    "start_date = '2020-01-01'\n",
    "end_date = '2022-01-01'\n",
    "\n",
    "dw_class = geemap.dynamic_world(region, start_date, end_date, return_type='class')\n",
    "dw = geemap.dynamic_world(region, start_date, end_date, return_type='hillshade')\n",
    "\n",
    "dw_vis = {\n",
    "    \"min\": 0,\n",
    "    \"max\": 8,\n",
    "    \"palette\": [\n",
    "        \"#419BDF\",\n",
    "        \"#397D49\",\n",
    "        \"#88B053\",\n",
    "        \"#7A87C6\",\n",
    "        \"#E49635\",\n",
    "        \"#DFC35A\",\n",
    "        \"#C4281B\",\n",
    "        \"#A59B8F\",\n",
    "        \"#B39FE1\",\n",
    "    ],\n",
    "}\n",
    "\n",
    "Map.addLayer(dw_class, dw_vis, 'DW Land Cover', False)\n",
    "Map.addLayer(dw, {}, 'DW Land Cover Hillshade')\n",
    "\n",
    "Map.add_legend(title=\"Dynamic World Land Cover\", builtin_legend='Dynamic_World')\n",
    "Map.setCenter(-88.9088, 43.0006, 12)\n",
    "Map"
   ]
  },
  {
   "cell_type": "code",
   "execution_count": null,
   "metadata": {},
   "outputs": [],
   "source": []
  },
  {
   "cell_type": "code",
   "execution_count": null,
   "metadata": {},
   "outputs": [],
   "source": [
    "Map = geemap.Map()\n",
    "\n",
    "modis = ee.ImageCollection(\"MODIS/006/MCD12Q1\").first()\n",
    "modis_vis = {'min': 1.0, 'max': 17.0, 'palette': [\n",
    "    '05450a', '086a10', '54a708', '78d203', '009900', 'c6b044', 'dcd159',\n",
    "    'dade48', 'fbff13', 'b6ff05', '27ff87', 'c24f44', 'a5a5a5', 'ff6d4c',\n",
    "    '69fff8', 'f9ffa4', '1c0dff']}\n",
    "\n",
    "Map.addLayer(modis, modis_vis, \"MODIS Land Cover\")\n",
    "Map.add_legend(title=\"MODIS Land Cover\", builtin_legend='MODIS_landCover')\n",
    "\n",
    "Map\n",
    "\n"
   ]
  },
  {
   "cell_type": "markdown",
   "metadata": {},
   "source": [
    "Comparing Dynamic World with ESA Land Cover."
   ]
  },
  {
   "cell_type": "code",
   "execution_count": null,
   "metadata": {},
   "outputs": [],
   "source": [
    "Map = geemap.Map(center=[39.3322, -106.7349], zoom=10)\n",
    "\n",
    "left_layer = geemap.ee_tile_layer(esa, esa_vis, \"ESA Land Cover\")\n",
    "right_layer = geemap.ee_tile_layer(dw, {}, \"Dynamic World Land Cover\")\n",
    "\n",
    "Map.split_map(left_layer, right_layer)\n",
    "Map.add_legend(\n",
    "    title=\"ESA Land Cover\", builtin_legend='ESA_WorldCover', position='bottomleft'\n",
    ")\n",
    "Map.add_legend(\n",
    "    title=\"Dynamic World Land Cover\",\n",
    "    builtin_legend='Dynamic_World',\n",
    "    position='bottomright',\n",
    ")\n",
    "Map.setCenter(-88.9088, 43.0006, 12)\n",
    "\n",
    "Map"
   ]
  },
  {
   "cell_type": "markdown",
   "metadata": {},
   "source": [
    "Comparing Dynamic World with ESRI Land Cover."
   ]
  },
  {
   "cell_type": "code",
   "execution_count": null,
   "metadata": {},
   "outputs": [],
   "source": [
    "Map = geemap.Map(center=[-89.3998, 43.0886], zoom=10)\n",
    "\n",
    "left_layer = geemap.ee_tile_layer(esri, esri_vis, \"ESRI Land Cover\")\n",
    "right_layer = geemap.ee_tile_layer(dw, {}, \"Dynamic World Land Cover\")\n",
    "\n",
    "Map.split_map(left_layer, right_layer)\n",
    "Map.add_legend(\n",
    "    title=\"ESRI Land Cover\", builtin_legend='ESRI_LandCover', position='bottomleft'\n",
    ")\n",
    "Map.add_legend(\n",
    "    title=\"Dynamic World Land Cover\",\n",
    "    builtin_legend='Dynamic_World',\n",
    "    position='bottomright',\n",
    ")\n",
    "Map.setCenter(-88.9088, 43.0006, 12)\n",
    "\n",
    "Map"
   ]
  },
  {
   "cell_type": "code",
   "execution_count": null,
   "metadata": {},
   "outputs": [],
   "source": [
    "Map = geemap.Map(center=[-89.3998, 43.0886], zoom=10)\n",
    "\n",
    "left_layer = geemap.ee_tile_layer(esri, esri_vis, \"ESRI Land Cover\")\n",
    "right_layer = geemap.ee_tile_layer(dw, {}, \"Dynamic World Land Cover\")\n",
    "\n",
    "Map.split_map(left_layer, right_layer)\n",
    "Map.add_legend(\n",
    "    title=\"ESRI Land Cover\", builtin_legend='ESRI_LandCover', position='bottomleft'\n",
    ")\n",
    "Map.add_legend(\n",
    "    title=\"Dynamic World Land Cover\",\n",
    "    builtin_legend='Dynamic_World',\n",
    "    position='bottomright',\n",
    ")\n",
    "Map.setCenter(-88.9088, 43.0006, 12)\n",
    "\n",
    "Map"
   ]
  }
 ],
 "metadata": {
  "anaconda-cloud": {},
  "kernelspec": {
   "display_name": "Python 3 (ipykernel)",
   "language": "python",
   "name": "python3"
  },
  "language_info": {
   "codemirror_mode": {
    "name": "ipython",
    "version": 3
   },
   "file_extension": ".py",
   "mimetype": "text/x-python",
   "name": "python",
   "nbconvert_exporter": "python",
   "pygments_lexer": "ipython3",
   "version": "3.9.12"
  }
 },
 "nbformat": 4,
 "nbformat_minor": 4
}
