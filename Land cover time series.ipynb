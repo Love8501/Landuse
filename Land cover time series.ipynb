{
 "cells": [
  {
   "cell_type": "markdown",
   "metadata": {},
   "source": [
    "<a href=\"https://githubtocolab.com/giswqs/geemap/blob/master/examples/notebooks/116_land_cover_timeseries.ipynb\" target=\"_parent\"><img src=\"https://colab.research.google.com/assets/colab-badge.svg\" alt=\"Open in Colab\"/></a>"
   ]
  },
  {
   "cell_type": "code",
   "execution_count": 18,
   "metadata": {},
   "outputs": [
    {
     "name": "stdout",
     "output_type": "stream",
     "text": [
      "Requirement already satisfied: geemap in c:\\users\\gebruiker\\miniconda3\\envs\\gee\\lib\\site-packages (0.13.11)\n",
      "Requirement already satisfied: ipytree in c:\\users\\gebruiker\\miniconda3\\envs\\gee\\lib\\site-packages (from geemap) (0.2.1)\n",
      "Requirement already satisfied: pyshp>=2.1.3 in c:\\users\\gebruiker\\miniconda3\\envs\\gee\\lib\\site-packages (from geemap) (2.3.0)\n",
      "Requirement already satisfied: folium>=0.11.0 in c:\\users\\gebruiker\\miniconda3\\envs\\gee\\lib\\site-packages (from geemap) (0.12.1.post1)\n",
      "Requirement already satisfied: gdown in c:\\users\\gebruiker\\miniconda3\\envs\\gee\\lib\\site-packages (from geemap) (4.4.0)\n",
      "Requirement already satisfied: earthengine-api>=0.1.304 in c:\\users\\gebruiker\\miniconda3\\envs\\gee\\lib\\site-packages (from geemap) (0.1.315)\n",
      "Requirement already satisfied: whiteboxgui>=0.6.0 in c:\\users\\gebruiker\\miniconda3\\envs\\gee\\lib\\site-packages (from geemap) (0.7.0)\n",
      "Requirement already satisfied: colour in c:\\users\\gebruiker\\miniconda3\\envs\\gee\\lib\\site-packages (from geemap) (0.1.5)\n",
      "Requirement already satisfied: sankee in c:\\users\\gebruiker\\miniconda3\\envs\\gee\\lib\\site-packages (from geemap) (0.0.7)\n",
      "Requirement already satisfied: ipyevents in c:\\users\\gebruiker\\miniconda3\\envs\\gee\\lib\\site-packages (from geemap) (2.0.1)\n",
      "Requirement already satisfied: ffmpeg-python in c:\\users\\gebruiker\\miniconda3\\envs\\gee\\lib\\site-packages (from geemap) (0.2.0)\n",
      "Requirement already satisfied: ipyfilechooser>=0.6.0 in c:\\users\\gebruiker\\miniconda3\\envs\\gee\\lib\\site-packages (from geemap) (0.6.0)\n",
      "Requirement already satisfied: bqplot in c:\\users\\gebruiker\\miniconda3\\envs\\gee\\lib\\site-packages (from geemap) (0.12.33)\n",
      "Requirement already satisfied: geeadd>=0.5.1 in c:\\users\\gebruiker\\miniconda3\\envs\\gee\\lib\\site-packages (from geemap) (0.5.4)\n",
      "Requirement already satisfied: numpy in c:\\users\\gebruiker\\miniconda3\\envs\\gee\\lib\\site-packages (from geemap) (1.22.4)\n",
      "Requirement already satisfied: mapclassify>=2.4.0 in c:\\users\\gebruiker\\miniconda3\\envs\\gee\\lib\\site-packages (from geemap) (2.4.3)\n",
      "Requirement already satisfied: geojson in c:\\users\\gebruiker\\miniconda3\\envs\\gee\\lib\\site-packages (from geemap) (2.5.0)\n",
      "Requirement already satisfied: pandas in c:\\users\\gebruiker\\miniconda3\\envs\\gee\\lib\\site-packages (from geemap) (1.4.2)\n",
      "Requirement already satisfied: jupyterlab>=3 in c:\\users\\gebruiker\\miniconda3\\envs\\gee\\lib\\site-packages (from geemap) (3.4.3)\n",
      "Requirement already satisfied: matplotlib in c:\\users\\gebruiker\\miniconda3\\envs\\gee\\lib\\site-packages (from geemap) (3.5.2)\n",
      "Requirement already satisfied: xyzservices in c:\\users\\gebruiker\\miniconda3\\envs\\gee\\lib\\site-packages (from geemap) (2022.4.0)\n",
      "Requirement already satisfied: geocoder in c:\\users\\gebruiker\\miniconda3\\envs\\gee\\lib\\site-packages (from geemap) (1.38.1)\n",
      "Requirement already satisfied: pycrs in c:\\users\\gebruiker\\miniconda3\\envs\\gee\\lib\\site-packages (from geemap) (1.0.2)\n",
      "Requirement already satisfied: ee-extra>=0.0.10 in c:\\users\\gebruiker\\miniconda3\\envs\\gee\\lib\\site-packages (from geemap) (0.0.13)\n",
      "Requirement already satisfied: pillow in c:\\users\\gebruiker\\miniconda3\\envs\\gee\\lib\\site-packages (from geemap) (9.1.1)\n",
      "Requirement already satisfied: python-box in c:\\users\\gebruiker\\miniconda3\\envs\\gee\\lib\\site-packages (from geemap) (6.0.2)\n",
      "Requirement already satisfied: ipyleaflet>=0.14.0 in c:\\users\\gebruiker\\miniconda3\\envs\\gee\\lib\\site-packages (from geemap) (0.16.0)\n",
      "Requirement already satisfied: six in c:\\users\\gebruiker\\miniconda3\\envs\\gee\\lib\\site-packages (from earthengine-api>=0.1.304->geemap) (1.16.0)\n",
      "Requirement already satisfied: future in c:\\users\\gebruiker\\miniconda3\\envs\\gee\\lib\\site-packages (from earthengine-api>=0.1.304->geemap) (0.18.2)\n",
      "Requirement already satisfied: google-api-python-client<2,>=1.12.1 in c:\\users\\gebruiker\\miniconda3\\envs\\gee\\lib\\site-packages (from earthengine-api>=0.1.304->geemap) (1.12.8)\n",
      "Requirement already satisfied: httplib2<1dev,>=0.9.2 in c:\\users\\gebruiker\\miniconda3\\envs\\gee\\lib\\site-packages (from earthengine-api>=0.1.304->geemap) (0.20.4)\n",
      "Requirement already satisfied: httplib2shim in c:\\users\\gebruiker\\miniconda3\\envs\\gee\\lib\\site-packages (from earthengine-api>=0.1.304->geemap) (0.0.3)\n",
      "Requirement already satisfied: google-auth>=1.4.1 in c:\\users\\gebruiker\\miniconda3\\envs\\gee\\lib\\site-packages (from earthengine-api>=0.1.304->geemap) (1.35.0)\n",
      "Requirement already satisfied: google-cloud-storage in c:\\users\\gebruiker\\miniconda3\\envs\\gee\\lib\\site-packages (from earthengine-api>=0.1.304->geemap) (2.4.0)\n",
      "Requirement already satisfied: google-auth-httplib2>=0.0.3 in c:\\users\\gebruiker\\miniconda3\\envs\\gee\\lib\\site-packages (from earthengine-api>=0.1.304->geemap) (0.1.0)\n",
      "Requirement already satisfied: branca>=0.3.0 in c:\\users\\gebruiker\\miniconda3\\envs\\gee\\lib\\site-packages (from folium>=0.11.0->geemap) (0.5.0)\n",
      "Requirement already satisfied: requests in c:\\users\\gebruiker\\miniconda3\\envs\\gee\\lib\\site-packages (from folium>=0.11.0->geemap) (2.28.0)\n",
      "Requirement already satisfied: jinja2>=2.9 in c:\\users\\gebruiker\\miniconda3\\envs\\gee\\lib\\site-packages (from folium>=0.11.0->geemap) (3.1.2)\n",
      "Requirement already satisfied: logzero>=1.5.0 in c:\\users\\gebruiker\\miniconda3\\envs\\gee\\lib\\site-packages (from geeadd>=0.5.1->geemap) (1.7.0)\n",
      "Requirement already satisfied: beautifulsoup4>=4.9.0 in c:\\users\\gebruiker\\miniconda3\\envs\\gee\\lib\\site-packages (from geeadd>=0.5.1->geemap) (4.11.1)\n",
      "Requirement already satisfied: soupsieve>1.2 in c:\\users\\gebruiker\\miniconda3\\envs\\gee\\lib\\site-packages (from beautifulsoup4>=4.9.0->geeadd>=0.5.1->geemap) (2.3.1)\n",
      "Requirement already satisfied: google-api-core<2dev,>=1.21.0 in c:\\users\\gebruiker\\miniconda3\\envs\\gee\\lib\\site-packages (from google-api-python-client<2,>=1.12.1->earthengine-api>=0.1.304->geemap) (1.31.5)\n",
      "Requirement already satisfied: uritemplate<4dev,>=3.0.0 in c:\\users\\gebruiker\\miniconda3\\envs\\gee\\lib\\site-packages (from google-api-python-client<2,>=1.12.1->earthengine-api>=0.1.304->geemap) (3.0.1)\n",
      "Requirement already satisfied: setuptools>=40.3.0 in c:\\users\\gebruiker\\miniconda3\\envs\\gee\\lib\\site-packages (from google-api-core<2dev,>=1.21.0->google-api-python-client<2,>=1.12.1->earthengine-api>=0.1.304->geemap) (61.2.0)\n",
      "Requirement already satisfied: googleapis-common-protos<2.0dev,>=1.6.0 in c:\\users\\gebruiker\\miniconda3\\envs\\gee\\lib\\site-packages (from google-api-core<2dev,>=1.21.0->google-api-python-client<2,>=1.12.1->earthengine-api>=0.1.304->geemap) (1.56.2)\n",
      "Requirement already satisfied: packaging>=14.3 in c:\\users\\gebruiker\\miniconda3\\envs\\gee\\lib\\site-packages (from google-api-core<2dev,>=1.21.0->google-api-python-client<2,>=1.12.1->earthengine-api>=0.1.304->geemap) (21.3)\n",
      "Requirement already satisfied: protobuf>=3.12.0 in c:\\users\\gebruiker\\miniconda3\\envs\\gee\\lib\\site-packages (from google-api-core<2dev,>=1.21.0->google-api-python-client<2,>=1.12.1->earthengine-api>=0.1.304->geemap) (3.20.1)\n",
      "Requirement already satisfied: pytz in c:\\users\\gebruiker\\miniconda3\\envs\\gee\\lib\\site-packages (from google-api-core<2dev,>=1.21.0->google-api-python-client<2,>=1.12.1->earthengine-api>=0.1.304->geemap) (2022.1)\n",
      "Requirement already satisfied: pyasn1-modules>=0.2.1 in c:\\users\\gebruiker\\miniconda3\\envs\\gee\\lib\\site-packages (from google-auth>=1.4.1->earthengine-api>=0.1.304->geemap) (0.2.7)\n",
      "Requirement already satisfied: cachetools<5.0,>=2.0.0 in c:\\users\\gebruiker\\miniconda3\\envs\\gee\\lib\\site-packages (from google-auth>=1.4.1->earthengine-api>=0.1.304->geemap) (4.2.4)\n",
      "Requirement already satisfied: rsa<5,>=3.1.4 in c:\\users\\gebruiker\\miniconda3\\envs\\gee\\lib\\site-packages (from google-auth>=1.4.1->earthengine-api>=0.1.304->geemap) (4.8)\n",
      "Requirement already satisfied: pyparsing!=3.0.0,!=3.0.1,!=3.0.2,!=3.0.3,<4,>=2.4.2 in c:\\users\\gebruiker\\miniconda3\\envs\\gee\\lib\\site-packages (from httplib2<1dev,>=0.9.2->earthengine-api>=0.1.304->geemap) (3.0.9)\n",
      "Requirement already satisfied: ipywidgets in c:\\users\\gebruiker\\miniconda3\\envs\\gee\\lib\\site-packages (from ipyfilechooser>=0.6.0->geemap) (7.7.0)\n",
      "Requirement already satisfied: traittypes<3,>=0.2.1 in c:\\users\\gebruiker\\miniconda3\\envs\\gee\\lib\\site-packages (from ipyleaflet>=0.14.0->geemap) (0.2.1)\n",
      "Requirement already satisfied: ipython-genutils~=0.2.0 in c:\\users\\gebruiker\\miniconda3\\envs\\gee\\lib\\site-packages (from ipywidgets->ipyfilechooser>=0.6.0->geemap) (0.2.0)\n",
      "Requirement already satisfied: ipykernel>=4.5.1 in c:\\users\\gebruiker\\miniconda3\\envs\\gee\\lib\\site-packages (from ipywidgets->ipyfilechooser>=0.6.0->geemap) (6.15.0)\n",
      "Requirement already satisfied: nbformat>=4.2.0 in c:\\users\\gebruiker\\miniconda3\\envs\\gee\\lib\\site-packages (from ipywidgets->ipyfilechooser>=0.6.0->geemap) (5.4.0)\n",
      "Requirement already satisfied: widgetsnbextension~=3.6.0 in c:\\users\\gebruiker\\miniconda3\\envs\\gee\\lib\\site-packages (from ipywidgets->ipyfilechooser>=0.6.0->geemap) (3.6.0)\n",
      "Requirement already satisfied: ipython>=4.0.0 in c:\\users\\gebruiker\\miniconda3\\envs\\gee\\lib\\site-packages (from ipywidgets->ipyfilechooser>=0.6.0->geemap) (8.4.0)\n",
      "Requirement already satisfied: jupyterlab-widgets>=1.0.0 in c:\\users\\gebruiker\\miniconda3\\envs\\gee\\lib\\site-packages (from ipywidgets->ipyfilechooser>=0.6.0->geemap) (1.1.0)\n",
      "Requirement already satisfied: traitlets>=4.3.1 in c:\\users\\gebruiker\\miniconda3\\envs\\gee\\lib\\site-packages (from ipywidgets->ipyfilechooser>=0.6.0->geemap) (5.3.0)\n",
      "Requirement already satisfied: psutil in c:\\users\\gebruiker\\miniconda3\\envs\\gee\\lib\\site-packages (from ipykernel>=4.5.1->ipywidgets->ipyfilechooser>=0.6.0->geemap) (5.9.1)\n",
      "Requirement already satisfied: tornado>=6.1 in c:\\users\\gebruiker\\miniconda3\\envs\\gee\\lib\\site-packages (from ipykernel>=4.5.1->ipywidgets->ipyfilechooser>=0.6.0->geemap) (6.1)\n",
      "Requirement already satisfied: matplotlib-inline>=0.1 in c:\\users\\gebruiker\\miniconda3\\envs\\gee\\lib\\site-packages (from ipykernel>=4.5.1->ipywidgets->ipyfilechooser>=0.6.0->geemap) (0.1.3)\n",
      "Requirement already satisfied: nest-asyncio in c:\\users\\gebruiker\\miniconda3\\envs\\gee\\lib\\site-packages (from ipykernel>=4.5.1->ipywidgets->ipyfilechooser>=0.6.0->geemap) (1.5.5)\n",
      "Requirement already satisfied: debugpy>=1.0 in c:\\users\\gebruiker\\miniconda3\\envs\\gee\\lib\\site-packages (from ipykernel>=4.5.1->ipywidgets->ipyfilechooser>=0.6.0->geemap) (1.6.0)\n",
      "Requirement already satisfied: pyzmq>=17 in c:\\users\\gebruiker\\miniconda3\\envs\\gee\\lib\\site-packages (from ipykernel>=4.5.1->ipywidgets->ipyfilechooser>=0.6.0->geemap) (23.1.0)\n",
      "Requirement already satisfied: jupyter-client>=6.1.12 in c:\\users\\gebruiker\\miniconda3\\envs\\gee\\lib\\site-packages (from ipykernel>=4.5.1->ipywidgets->ipyfilechooser>=0.6.0->geemap) (7.3.4)\n",
      "Requirement already satisfied: colorama in c:\\users\\gebruiker\\miniconda3\\envs\\gee\\lib\\site-packages (from ipython>=4.0.0->ipywidgets->ipyfilechooser>=0.6.0->geemap) (0.4.5)\n",
      "Requirement already satisfied: decorator in c:\\users\\gebruiker\\miniconda3\\envs\\gee\\lib\\site-packages (from ipython>=4.0.0->ipywidgets->ipyfilechooser>=0.6.0->geemap) (5.1.1)\n",
      "Requirement already satisfied: stack-data in c:\\users\\gebruiker\\miniconda3\\envs\\gee\\lib\\site-packages (from ipython>=4.0.0->ipywidgets->ipyfilechooser>=0.6.0->geemap) (0.3.0)\n",
      "Requirement already satisfied: jedi>=0.16 in c:\\users\\gebruiker\\miniconda3\\envs\\gee\\lib\\site-packages (from ipython>=4.0.0->ipywidgets->ipyfilechooser>=0.6.0->geemap) (0.18.1)\n",
      "Requirement already satisfied: backcall in c:\\users\\gebruiker\\miniconda3\\envs\\gee\\lib\\site-packages (from ipython>=4.0.0->ipywidgets->ipyfilechooser>=0.6.0->geemap) (0.2.0)\n",
      "Requirement already satisfied: pygments>=2.4.0 in c:\\users\\gebruiker\\miniconda3\\envs\\gee\\lib\\site-packages (from ipython>=4.0.0->ipywidgets->ipyfilechooser>=0.6.0->geemap) (2.12.0)\n",
      "Requirement already satisfied: prompt-toolkit!=3.0.0,!=3.0.1,<3.1.0,>=2.0.0 in c:\\users\\gebruiker\\miniconda3\\envs\\gee\\lib\\site-packages (from ipython>=4.0.0->ipywidgets->ipyfilechooser>=0.6.0->geemap) (3.0.29)\n",
      "Requirement already satisfied: pickleshare in c:\\users\\gebruiker\\miniconda3\\envs\\gee\\lib\\site-packages (from ipython>=4.0.0->ipywidgets->ipyfilechooser>=0.6.0->geemap) (0.7.5)\n",
      "Requirement already satisfied: parso<0.9.0,>=0.8.0 in c:\\users\\gebruiker\\miniconda3\\envs\\gee\\lib\\site-packages (from jedi>=0.16->ipython>=4.0.0->ipywidgets->ipyfilechooser>=0.6.0->geemap) (0.8.3)\n",
      "Requirement already satisfied: MarkupSafe>=2.0 in c:\\users\\gebruiker\\miniconda3\\envs\\gee\\lib\\site-packages (from jinja2>=2.9->folium>=0.11.0->geemap) (2.1.1)\n",
      "Requirement already satisfied: python-dateutil>=2.8.2 in c:\\users\\gebruiker\\miniconda3\\envs\\gee\\lib\\site-packages (from jupyter-client>=6.1.12->ipykernel>=4.5.1->ipywidgets->ipyfilechooser>=0.6.0->geemap) (2.8.2)\n",
      "Requirement already satisfied: entrypoints in c:\\users\\gebruiker\\miniconda3\\envs\\gee\\lib\\site-packages (from jupyter-client>=6.1.12->ipykernel>=4.5.1->ipywidgets->ipyfilechooser>=0.6.0->geemap) (0.4)\n",
      "Requirement already satisfied: jupyter-core>=4.9.2 in c:\\users\\gebruiker\\miniconda3\\envs\\gee\\lib\\site-packages (from jupyter-client>=6.1.12->ipykernel>=4.5.1->ipywidgets->ipyfilechooser>=0.6.0->geemap) (4.10.0)\n",
      "Requirement already satisfied: pywin32>=1.0 in c:\\users\\gebruiker\\miniconda3\\envs\\gee\\lib\\site-packages (from jupyter-core>=4.9.2->jupyter-client>=6.1.12->ipykernel>=4.5.1->ipywidgets->ipyfilechooser>=0.6.0->geemap) (303)\n",
      "Requirement already satisfied: jupyterlab-server~=2.10 in c:\\users\\gebruiker\\miniconda3\\envs\\gee\\lib\\site-packages (from jupyterlab>=3->geemap) (2.14.0)\n",
      "Requirement already satisfied: jupyter-server~=1.16 in c:\\users\\gebruiker\\miniconda3\\envs\\gee\\lib\\site-packages (from jupyterlab>=3->geemap) (1.17.1)\n",
      "Requirement already satisfied: nbclassic~=0.2 in c:\\users\\gebruiker\\miniconda3\\envs\\gee\\lib\\site-packages (from jupyterlab>=3->geemap) (0.3.7)\n",
      "Requirement already satisfied: argon2-cffi in c:\\users\\gebruiker\\miniconda3\\envs\\gee\\lib\\site-packages (from jupyter-server~=1.16->jupyterlab>=3->geemap) (21.3.0)\n",
      "Requirement already satisfied: Send2Trash in c:\\users\\gebruiker\\miniconda3\\envs\\gee\\lib\\site-packages (from jupyter-server~=1.16->jupyterlab>=3->geemap) (1.8.0)\n",
      "Requirement already satisfied: websocket-client in c:\\users\\gebruiker\\miniconda3\\envs\\gee\\lib\\site-packages (from jupyter-server~=1.16->jupyterlab>=3->geemap) (1.3.2)\n",
      "Requirement already satisfied: pywinpty in c:\\users\\gebruiker\\miniconda3\\envs\\gee\\lib\\site-packages (from jupyter-server~=1.16->jupyterlab>=3->geemap) (2.0.2)\n",
      "Requirement already satisfied: prometheus-client in c:\\users\\gebruiker\\miniconda3\\envs\\gee\\lib\\site-packages (from jupyter-server~=1.16->jupyterlab>=3->geemap) (0.14.1)\n",
      "Requirement already satisfied: anyio<4,>=3.1.0 in c:\\users\\gebruiker\\miniconda3\\envs\\gee\\lib\\site-packages (from jupyter-server~=1.16->jupyterlab>=3->geemap) (3.6.1)\n",
      "Requirement already satisfied: terminado>=0.8.3 in c:\\users\\gebruiker\\miniconda3\\envs\\gee\\lib\\site-packages (from jupyter-server~=1.16->jupyterlab>=3->geemap) (0.15.0)\n",
      "Requirement already satisfied: nbconvert>=6.4.4 in c:\\users\\gebruiker\\miniconda3\\envs\\gee\\lib\\site-packages (from jupyter-server~=1.16->jupyterlab>=3->geemap) (6.5.0)\n",
      "Requirement already satisfied: idna>=2.8 in c:\\users\\gebruiker\\miniconda3\\envs\\gee\\lib\\site-packages (from anyio<4,>=3.1.0->jupyter-server~=1.16->jupyterlab>=3->geemap) (3.3)\n",
      "Requirement already satisfied: sniffio>=1.1 in c:\\users\\gebruiker\\miniconda3\\envs\\gee\\lib\\site-packages (from anyio<4,>=3.1.0->jupyter-server~=1.16->jupyterlab>=3->geemap) (1.2.0)\n",
      "Requirement already satisfied: jsonschema>=3.0.1 in c:\\users\\gebruiker\\miniconda3\\envs\\gee\\lib\\site-packages (from jupyterlab-server~=2.10->jupyterlab>=3->geemap) (4.6.0)\n",
      "Requirement already satisfied: babel in c:\\users\\gebruiker\\miniconda3\\envs\\gee\\lib\\site-packages (from jupyterlab-server~=2.10->jupyterlab>=3->geemap) (2.10.3)\n",
      "Requirement already satisfied: importlib-metadata>=3.6 in c:\\users\\gebruiker\\miniconda3\\envs\\gee\\lib\\site-packages (from jupyterlab-server~=2.10->jupyterlab>=3->geemap) (4.11.4)\n",
      "Requirement already satisfied: json5 in c:\\users\\gebruiker\\miniconda3\\envs\\gee\\lib\\site-packages (from jupyterlab-server~=2.10->jupyterlab>=3->geemap) (0.9.5)\n",
      "Requirement already satisfied: zipp>=0.5 in c:\\users\\gebruiker\\miniconda3\\envs\\gee\\lib\\site-packages (from importlib-metadata>=3.6->jupyterlab-server~=2.10->jupyterlab>=3->geemap) (3.8.0)\n",
      "Requirement already satisfied: pyrsistent!=0.17.0,!=0.17.1,!=0.17.2,>=0.14.0 in c:\\users\\gebruiker\\miniconda3\\envs\\gee\\lib\\site-packages (from jsonschema>=3.0.1->jupyterlab-server~=2.10->jupyterlab>=3->geemap) (0.18.1)\n",
      "Requirement already satisfied: attrs>=17.4.0 in c:\\users\\gebruiker\\miniconda3\\envs\\gee\\lib\\site-packages (from jsonschema>=3.0.1->jupyterlab-server~=2.10->jupyterlab>=3->geemap) (21.4.0)\n",
      "Requirement already satisfied: networkx in c:\\users\\gebruiker\\miniconda3\\envs\\gee\\lib\\site-packages (from mapclassify>=2.4.0->geemap) (2.8.4)\n",
      "Requirement already satisfied: scikit-learn in c:\\users\\gebruiker\\miniconda3\\envs\\gee\\lib\\site-packages (from mapclassify>=2.4.0->geemap) (1.1.1)\n",
      "Requirement already satisfied: scipy>=1.0 in c:\\users\\gebruiker\\miniconda3\\envs\\gee\\lib\\site-packages (from mapclassify>=2.4.0->geemap) (1.8.1)\n",
      "Requirement already satisfied: notebook<7 in c:\\users\\gebruiker\\miniconda3\\envs\\gee\\lib\\site-packages (from nbclassic~=0.2->jupyterlab>=3->geemap) (6.4.12)\n",
      "Requirement already satisfied: notebook-shim>=0.1.0 in c:\\users\\gebruiker\\miniconda3\\envs\\gee\\lib\\site-packages (from nbclassic~=0.2->jupyterlab>=3->geemap) (0.1.0)\n",
      "Requirement already satisfied: pandocfilters>=1.4.1 in c:\\users\\gebruiker\\miniconda3\\envs\\gee\\lib\\site-packages (from nbconvert>=6.4.4->jupyter-server~=1.16->jupyterlab>=3->geemap) (1.5.0)\n",
      "Requirement already satisfied: mistune<2,>=0.8.1 in c:\\users\\gebruiker\\miniconda3\\envs\\gee\\lib\\site-packages (from nbconvert>=6.4.4->jupyter-server~=1.16->jupyterlab>=3->geemap) (0.8.4)\n",
      "Requirement already satisfied: bleach in c:\\users\\gebruiker\\miniconda3\\envs\\gee\\lib\\site-packages (from nbconvert>=6.4.4->jupyter-server~=1.16->jupyterlab>=3->geemap) (5.0.0)\n",
      "Requirement already satisfied: nbclient>=0.5.0 in c:\\users\\gebruiker\\miniconda3\\envs\\gee\\lib\\site-packages (from nbconvert>=6.4.4->jupyter-server~=1.16->jupyterlab>=3->geemap) (0.6.4)\n",
      "Requirement already satisfied: jupyterlab-pygments in c:\\users\\gebruiker\\miniconda3\\envs\\gee\\lib\\site-packages (from nbconvert>=6.4.4->jupyter-server~=1.16->jupyterlab>=3->geemap) (0.2.2)\n",
      "Requirement already satisfied: tinycss2 in c:\\users\\gebruiker\\miniconda3\\envs\\gee\\lib\\site-packages (from nbconvert>=6.4.4->jupyter-server~=1.16->jupyterlab>=3->geemap) (1.1.1)\n",
      "Requirement already satisfied: defusedxml in c:\\users\\gebruiker\\miniconda3\\envs\\gee\\lib\\site-packages (from nbconvert>=6.4.4->jupyter-server~=1.16->jupyterlab>=3->geemap) (0.7.1)\n",
      "Requirement already satisfied: fastjsonschema in c:\\users\\gebruiker\\miniconda3\\envs\\gee\\lib\\site-packages (from nbformat>=4.2.0->ipywidgets->ipyfilechooser>=0.6.0->geemap) (2.15.3)\n",
      "Requirement already satisfied: wcwidth in c:\\users\\gebruiker\\miniconda3\\envs\\gee\\lib\\site-packages (from prompt-toolkit!=3.0.0,!=3.0.1,<3.1.0,>=2.0.0->ipython>=4.0.0->ipywidgets->ipyfilechooser>=0.6.0->geemap) (0.2.5)\n",
      "Requirement already satisfied: pyasn1<0.5.0,>=0.4.6 in c:\\users\\gebruiker\\miniconda3\\envs\\gee\\lib\\site-packages (from pyasn1-modules>=0.2.1->google-auth>=1.4.1->earthengine-api>=0.1.304->geemap) (0.4.8)\n",
      "Requirement already satisfied: charset-normalizer~=2.0.0 in c:\\users\\gebruiker\\miniconda3\\envs\\gee\\lib\\site-packages (from requests->folium>=0.11.0->geemap) (2.0.12)\n",
      "Requirement already satisfied: certifi>=2017.4.17 in c:\\users\\gebruiker\\miniconda3\\envs\\gee\\lib\\site-packages (from requests->folium>=0.11.0->geemap) (2022.6.15)\n",
      "Requirement already satisfied: urllib3<1.27,>=1.21.1 in c:\\users\\gebruiker\\miniconda3\\envs\\gee\\lib\\site-packages (from requests->folium>=0.11.0->geemap) (1.26.9)\n",
      "Requirement already satisfied: whitebox in c:\\users\\gebruiker\\miniconda3\\envs\\gee\\lib\\site-packages (from whiteboxgui>=0.6.0->geemap) (2.1.2)\n",
      "Requirement already satisfied: argon2-cffi-bindings in c:\\users\\gebruiker\\miniconda3\\envs\\gee\\lib\\site-packages (from argon2-cffi->jupyter-server~=1.16->jupyterlab>=3->geemap) (21.2.0)\n",
      "Requirement already satisfied: cffi>=1.0.1 in c:\\users\\gebruiker\\miniconda3\\envs\\gee\\lib\\site-packages (from argon2-cffi-bindings->argon2-cffi->jupyter-server~=1.16->jupyterlab>=3->geemap) (1.15.0)\n",
      "Requirement already satisfied: pycparser in c:\\users\\gebruiker\\miniconda3\\envs\\gee\\lib\\site-packages (from cffi>=1.0.1->argon2-cffi-bindings->argon2-cffi->jupyter-server~=1.16->jupyterlab>=3->geemap) (2.21)\n",
      "Requirement already satisfied: webencodings in c:\\users\\gebruiker\\miniconda3\\envs\\gee\\lib\\site-packages (from bleach->nbconvert>=6.4.4->jupyter-server~=1.16->jupyterlab>=3->geemap) (0.5.1)\n",
      "Requirement already satisfied: tqdm in c:\\users\\gebruiker\\miniconda3\\envs\\gee\\lib\\site-packages (from gdown->geemap) (4.64.0)\n",
      "Requirement already satisfied: filelock in c:\\users\\gebruiker\\miniconda3\\envs\\gee\\lib\\site-packages (from gdown->geemap) (3.7.1)\n",
      "Requirement already satisfied: click in c:\\users\\gebruiker\\miniconda3\\envs\\gee\\lib\\site-packages (from geocoder->geemap) (8.1.3)\n",
      "Requirement already satisfied: ratelim in c:\\users\\gebruiker\\miniconda3\\envs\\gee\\lib\\site-packages (from geocoder->geemap) (0.1.6)\n",
      "Requirement already satisfied: google-resumable-media>=2.3.2 in c:\\users\\gebruiker\\miniconda3\\envs\\gee\\lib\\site-packages (from google-cloud-storage->earthengine-api>=0.1.304->geemap) (2.3.3)\n",
      "Requirement already satisfied: google-cloud-core<3.0dev,>=2.3.0 in c:\\users\\gebruiker\\miniconda3\\envs\\gee\\lib\\site-packages (from google-cloud-storage->earthengine-api>=0.1.304->geemap) (2.3.1)\n",
      "Requirement already satisfied: google-crc32c<2.0dev,>=1.0 in c:\\users\\gebruiker\\miniconda3\\envs\\gee\\lib\\site-packages (from google-resumable-media>=2.3.2->google-cloud-storage->earthengine-api>=0.1.304->geemap) (1.1.2)\n",
      "Requirement already satisfied: kiwisolver>=1.0.1 in c:\\users\\gebruiker\\miniconda3\\envs\\gee\\lib\\site-packages (from matplotlib->geemap) (1.4.3)\n",
      "Requirement already satisfied: cycler>=0.10 in c:\\users\\gebruiker\\miniconda3\\envs\\gee\\lib\\site-packages (from matplotlib->geemap) (0.11.0)\n",
      "Requirement already satisfied: fonttools>=4.22.0 in c:\\users\\gebruiker\\miniconda3\\envs\\gee\\lib\\site-packages (from matplotlib->geemap) (4.33.3)\n",
      "Requirement already satisfied: PySocks!=1.5.7,>=1.5.6 in c:\\users\\gebruiker\\miniconda3\\envs\\gee\\lib\\site-packages (from requests->folium>=0.11.0->geemap) (1.7.1)\n",
      "Requirement already satisfied: plotly>=5.2.2 in c:\\users\\gebruiker\\miniconda3\\envs\\gee\\lib\\site-packages (from sankee->geemap) (5.8.2)\n",
      "Requirement already satisfied: tenacity>=6.2.0 in c:\\users\\gebruiker\\miniconda3\\envs\\gee\\lib\\site-packages (from plotly>=5.2.2->sankee->geemap) (8.0.1)\n",
      "Requirement already satisfied: joblib>=1.0.0 in c:\\users\\gebruiker\\miniconda3\\envs\\gee\\lib\\site-packages (from scikit-learn->mapclassify>=2.4.0->geemap) (1.1.0)\n",
      "Requirement already satisfied: threadpoolctl>=2.0.0 in c:\\users\\gebruiker\\miniconda3\\envs\\gee\\lib\\site-packages (from scikit-learn->mapclassify>=2.4.0->geemap) (3.1.0)\n",
      "Requirement already satisfied: pure-eval in c:\\users\\gebruiker\\miniconda3\\envs\\gee\\lib\\site-packages (from stack-data->ipython>=4.0.0->ipywidgets->ipyfilechooser>=0.6.0->geemap) (0.2.2)\n",
      "Requirement already satisfied: executing in c:\\users\\gebruiker\\miniconda3\\envs\\gee\\lib\\site-packages (from stack-data->ipython>=4.0.0->ipywidgets->ipyfilechooser>=0.6.0->geemap) (0.8.3)\n",
      "Requirement already satisfied: asttokens in c:\\users\\gebruiker\\miniconda3\\envs\\gee\\lib\\site-packages (from stack-data->ipython>=4.0.0->ipywidgets->ipyfilechooser>=0.6.0->geemap) (2.0.5)\n"
     ]
    }
   ],
   "source": [
    "!pip install geemap"
   ]
  },
  {
   "cell_type": "code",
   "execution_count": 1,
   "metadata": {},
   "outputs": [],
   "source": [
    "import ee\n",
    "import geemap"
   ]
  },
  {
   "cell_type": "code",
   "execution_count": 40,
   "metadata": {},
   "outputs": [
    {
     "data": {
      "application/vnd.jupyter.widget-view+json": {
       "model_id": "89c73a4508dd44ada86c20a837de6862",
       "version_major": 2,
       "version_minor": 0
      },
      "text/plain": [
       "Map(center=[20, 0], controls=(WidgetControl(options=['position', 'transparent_bg'], widget=HBox(children=(Togg…"
      ]
     },
     "metadata": {},
     "output_type": "display_data"
    }
   ],
   "source": [
    "Map = geemap.Map()\n",
    "Map.add_basemap('HYBRID')\n",
    "Map"
   ]
  },
  {
   "cell_type": "code",
   "execution_count": 41,
   "metadata": {},
   "outputs": [],
   "source": [
    "# Set the region of interest by simply drawing a polygon on the map\n",
    "region = Map.user_roi\n",
    "if region is None:\n",
    "    region = ee.Geometry.BBox(-89.7088, 42.9006, -89.0647, 43.2167)\n",
    "\n",
    "Map.centerObject(region)"
   ]
  },
  {
   "cell_type": "code",
   "execution_count": 42,
   "metadata": {},
   "outputs": [],
   "source": [
    "# Set the date range\n",
    "start_date = '2015-01-01'\n",
    "end_date = '2022-12-31'"
   ]
  },
  {
   "cell_type": "markdown",
   "metadata": {},
   "source": [
    "The `return_type` can be `hillshade`, `visualize`, `class`, or `probability`. If you want to use the resulting images for further analysis, you should use `class`."
   ]
  },
  {
   "cell_type": "code",
   "execution_count": 43,
   "metadata": {},
   "outputs": [],
   "source": [
    "images = geemap.dynamic_world_timeseries(\n",
    "    region, start_date, end_date, return_type=\"class\"\n",
    ")"
   ]
  },
  {
   "cell_type": "code",
   "execution_count": 44,
   "metadata": {},
   "outputs": [
    {
     "data": {
      "application/vnd.jupyter.widget-view+json": {
       "model_id": "89c73a4508dd44ada86c20a837de6862",
       "version_major": 2,
       "version_minor": 0
      },
      "text/plain": [
       "Map(bottom=125976.0, center=[7.389705401310166, 11.60911560058594], controls=(WidgetControl(options=['position…"
      ]
     },
     "metadata": {},
     "output_type": "display_data"
    }
   ],
   "source": [
    "vis_params = {\n",
    "    \"min\": 0,\n",
    "    \"max\": 8,\n",
    "    \"palette\": [\n",
    "        \"#419BDF\",\n",
    "        \"#397D49\",\n",
    "        \"#88B053\",\n",
    "        \"#7A87C6\",\n",
    "        \"#E49635\",\n",
    "        \"#DFC35A\",\n",
    "        \"#C4281B\",\n",
    "        \"#A59B8F\",\n",
    "        \"#B39FE1\",\n",
    "    ],\n",
    "}\n",
    "Map.addLayer(images.first(), vis_params, 'First image')\n",
    "Map.add_legend(title=\"Dynamic World Land Cover\", builtin_legend='Dynamic_World')\n",
    "Map"
   ]
  },
  {
   "cell_type": "code",
   "execution_count": 45,
   "metadata": {},
   "outputs": [],
   "source": [
    "Map.ts_inspector(images, left_vis=vis_params, date_format='YYYY')"
   ]
  },
  {
   "cell_type": "code",
   "execution_count": 39,
   "metadata": {},
   "outputs": [
    {
     "data": {
      "application/vnd.jupyter.widget-view+json": {
       "model_id": "30d95996b9cf48418dd79713489e9ff1",
       "version_major": 2,
       "version_minor": 0
      },
      "text/plain": [
       "Map(center=[20, 0], controls=(WidgetControl(options=['position', 'transparent_bg'], widget=Dropdown(layout=Lay…"
      ]
     },
     "metadata": {},
     "output_type": "display_data"
    }
   ],
   "source": [
    "Map = geemap.Map()\n",
    "Map.add_basemap('HYBRID')\n",
    "Map.centerObject(region)\n",
    "\n",
    "images = geemap.dynamic_world_timeseries(\n",
    "    region, start_date, end_date, return_type=\"hillshade\"\n",
    ")\n",
    "Map.ts_inspector(images, date_format='YYYY')\n",
    "Map.add_legend(title=\"Dynamic World Land Cover\", builtin_legend='Dynamic_World')\n",
    "\n",
    "Map"
   ]
  },
  {
   "cell_type": "markdown",
   "metadata": {},
   "source": [
    "![](https://i.imgur.com/5DGOuTC.png)"
   ]
  }
 ],
 "metadata": {
  "anaconda-cloud": {},
  "kernelspec": {
   "display_name": "Python 3 (ipykernel)",
   "language": "python",
   "name": "python3"
  },
  "language_info": {
   "codemirror_mode": {
    "name": "ipython",
    "version": 3
   },
   "file_extension": ".py",
   "mimetype": "text/x-python",
   "name": "python",
   "nbconvert_exporter": "python",
   "pygments_lexer": "ipython3",
   "version": "3.9.12"
  }
 },
 "nbformat": 4,
 "nbformat_minor": 4
}
